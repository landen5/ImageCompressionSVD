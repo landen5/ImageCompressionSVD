{
  "nbformat": 4,
  "nbformat_minor": 0,
  "metadata": {
    "colab": {
      "provenance": [],
      "authorship_tag": "ABX9TyNG0QYvw8oopW2vC4vx9nrV",
      "include_colab_link": true
    },
    "kernelspec": {
      "name": "python3",
      "display_name": "Python 3"
    },
    "language_info": {
      "name": "python"
    }
  },
  "cells": [
    {
      "cell_type": "markdown",
      "metadata": {
        "id": "view-in-github",
        "colab_type": "text"
      },
      "source": [
        "<a href=\"https://colab.research.google.com/github/landen5/ImageCompressionSVD/blob/main/ImageCompression.ipynb\" target=\"_parent\"><img src=\"https://colab.research.google.com/assets/colab-badge.svg\" alt=\"Open In Colab\"/></a>"
      ]
    },
    {
      "cell_type": "markdown",
      "source": [
        "We will work with a randomly generated 7x7 image. First we apply SVD to it, then see all of the rank 1 images corresponding to all singular values. Then we can construct the best rank r image by adding all rank 1 images corresponding to singular values from 1 to r."
      ],
      "metadata": {
        "id": "ps_jbLqBZicn"
      }
    },
    {
      "cell_type": "code",
      "execution_count": null,
      "metadata": {
        "colab": {
          "base_uri": "https://localhost:8080/"
        },
        "id": "ljfm5AHwTrmE",
        "outputId": "4fb78451-5ff0-4cb7-fe9a-94435780ed7a"
      },
      "outputs": [
        {
          "output_type": "execute_result",
          "data": {
            "text/plain": [
              "array([[0, 1, 0, 0, 0, 1, 0],\n",
              "       [0, 0, 1, 0, 0, 0, 0],\n",
              "       [1, 0, 1, 1, 1, 0, 1],\n",
              "       [0, 1, 1, 1, 1, 1, 1],\n",
              "       [1, 1, 0, 0, 1, 1, 1],\n",
              "       [0, 1, 0, 0, 0, 0, 0],\n",
              "       [1, 1, 1, 1, 1, 0, 1]])"
            ]
          },
          "metadata": {},
          "execution_count": 1
        }
      ],
      "source": [
        "import numpy as np\n",
        "import matplotlib.pyplot as pyplot\n",
        "\n",
        "np.random.seed(42)\n",
        "n = 7\n",
        "IMG = np.random.randint(0,2,(n,n))\n",
        "np.linalg.matrix_rank(IMG)\n",
        "\n",
        "IMG"
      ]
    },
    {
      "cell_type": "markdown",
      "source": [
        "Note: The rank of a matrix is defined as the number of linearly independent rows/columns in the matrix."
      ],
      "metadata": {
        "id": "vV_ZMO4qZ82j"
      }
    },
    {
      "cell_type": "code",
      "source": [
        "def plot_img(img):\n",
        "  pyplot.imshow(img, cmap=\"gray\")\n",
        "  pyplot.xticks([])\n",
        "  pyplot.yticks([])\n",
        "  pyplot.show()\n",
        "\n",
        "plot_img(IMG)"
      ],
      "metadata": {
        "colab": {
          "base_uri": "https://localhost:8080/",
          "height": 406
        },
        "id": "ACw46VNYUZLg",
        "outputId": "5c23bdf1-0cc9-481a-9f5a-31d02a6d765d"
      },
      "execution_count": null,
      "outputs": [
        {
          "output_type": "display_data",
          "data": {
            "text/plain": [
              "<Figure size 640x480 with 1 Axes>"
            ],
            "image/png": "[encoded data removed]"
          },
          "metadata": {}
        }
      ]
    },
    {
      "cell_type": "markdown",
      "source": [
        "Now let's decompose this image using SVD"
      ],
      "metadata": {
        "id": "3yeIJ-p7aPyl"
      }
    },
    {
      "cell_type": "code",
      "source": [
        "U, S, V_T = np.linalg.svd(IMG)\n",
        "U.shape, S.shape, V_T.shape #((7, 7), (7,), (7, 7))\n",
        "\n",
        "print(\"S: \", np.around(S, decimals=4))\n",
        "\n",
        "with np.printoptions(precision=1):\n",
        "  print(\"U: \\n\", U, \"\\n\")\n",
        "  print(\"V_T: \\n\", V_T)"
      ],
      "metadata": {
        "colab": {
          "base_uri": "https://localhost:8080/"
        },
        "id": "w1zX3XKzU1g0",
        "outputId": "3448eebe-9dca-4065-b17f-94872c50778b"
      },
      "execution_count": null,
      "outputs": [
        {
          "output_type": "stream",
          "name": "stdout",
          "text": [
            "S:  [4.3372 2.0078 1.3004 0.9417 0.6827 0.3364 0.    ]\n",
            "U: \n",
            " [[-1.5e-01 -5.9e-01 -2.2e-01 -2.4e-02 -1.9e-01  7.4e-01  0.0e+00]\n",
            " [-8.5e-02  2.0e-01 -4.7e-01  3.0e-02 -8.3e-01 -2.1e-01  6.4e-17]\n",
            " [-4.5e-01  5.3e-01  1.7e-01 -1.3e-01 -2.6e-02  3.7e-01 -5.8e-01]\n",
            " [-5.3e-01 -1.5e-01 -5.4e-01 -4.2e-01  3.9e-01 -3.0e-01  2.5e-17]\n",
            " [-4.4e-01 -4.1e-01  6.2e-01 -1.8e-01 -3.4e-01 -3.3e-01  8.5e-18]\n",
            " [-9.3e-02 -3.1e-01 -1.4e-01  6.8e-01  1.1e-01 -2.6e-01 -5.8e-01]\n",
            " [-5.4e-01  2.2e-01  3.4e-02  5.5e-01  8.1e-02  1.1e-01  5.8e-01]] \n",
            "\n",
            "V_T: \n",
            " [[-3.3e-01 -4.0e-01 -3.7e-01 -3.5e-01 -4.5e-01 -2.6e-01 -4.5e-01]\n",
            " [ 1.7e-01 -6.1e-01  4.0e-01  3.0e-01  9.6e-02 -5.7e-01  9.6e-02]\n",
            " [ 6.4e-01 -1.8e-01 -6.2e-01 -2.5e-01  2.3e-01 -1.0e-01  2.3e-01]\n",
            " [ 2.5e-01  6.4e-01  2.8e-02 -3.6e-03 -2.0e-01 -6.7e-01 -2.0e-01]\n",
            " [-4.1e-01  7.3e-02 -5.6e-01  6.5e-01  1.6e-01 -2.0e-01  1.6e-01]\n",
            " [ 4.7e-01 -8.6e-02 -7.1e-02  5.5e-01 -4.2e-01  3.3e-01 -4.2e-01]\n",
            " [ 0.0e+00  0.0e+00 -2.0e-16  1.3e-16 -7.1e-01 -2.2e-17  7.1e-01]]\n"
          ]
        }
      ]
    },
    {
      "cell_type": "markdown",
      "source": [
        "Below are all rank 1 images. These are constructed by taking the outer product of columns of U and rows of V_T and then multiplying/scaling by corresponding sigma value in S."
      ],
      "metadata": {
        "id": "cxZ8uiFBWbzY"
      }
    },
    {
      "cell_type": "code",
      "source": [
        "rank_1_images = []\n",
        "\n",
        "fig = pyplot.figure(1, (16,8))\n",
        "\n",
        "for index,(u,s,v_t) in enumerate(zip(U.T, S, V_T)):\n",
        "  ax = pyplot.subplot(1,n,index+1)\n",
        "  rank_1_img = s * np.outer(u, v_t)\n",
        "  rank_1_images.append(rank_1_img)\n",
        "  ax.imshow(rank_1_img, cmap=\"gray\")\n",
        "  ax.set_xticks([])\n",
        "  ax.set_yticks([])\n",
        "  ax.set_title(f\"u{index+1}*s{index+1}*vt{index+1}\")\n",
        "  pyplot.tight_layout()"
      ],
      "metadata": {
        "colab": {
          "base_uri": "https://localhost:8080/",
          "height": 270
        },
        "id": "vZfrsMuMVrIH",
        "outputId": "6dcec599-7d6c-4b19-adbe-3edb1d6c0d6a"
      },
      "execution_count": null,
      "outputs": [
        {
          "output_type": "display_data",
          "data": {
            "text/plain": [
              "<Figure size 1600x800 with 7 Axes>"
            ],
            "image/png": "[encoded data removed]"
          },
          "metadata": {}
        }
      ]
    },
    {
      "cell_type": "markdown",
      "source": [
        "We'll use these rank 1 images to construct the image close to original image. We do this by summing rank 1 images. Also by doing this we increase the rank of the matrix and thus the information stored i.e., the constructed image will resemble more close to the original image as we cumulate more and more rank 1 images."
      ],
      "metadata": {
        "id": "z5kF612hWqaZ"
      }
    },
    {
      "cell_type": "markdown",
      "source": [
        "The best rank 1 approximation is noting but just the outer product of u1 with v1 and scaled by s1"
      ],
      "metadata": {
        "id": "ro6kszErWyBj"
      }
    },
    {
      "cell_type": "code",
      "source": [
        "IMG_rank1 = S[0] * np.outer(U[:, 0], V_T[0, :])\n",
        "\n",
        "with np.printoptions (precision=2):\n",
        "  print(\"IMG_rank1: \\n\", IMG_rank1)\n",
        "\n",
        "plot_img(IMG_rank1)"
      ],
      "metadata": {
        "colab": {
          "base_uri": "https://localhost:8080/",
          "height": 552
        },
        "id": "D7XYngQHWumT",
        "outputId": "988c087e-a6dc-469d-a3cf-9e17e2498655"
      },
      "execution_count": null,
      "outputs": [
        {
          "output_type": "stream",
          "name": "stdout",
          "text": [
            "IMG_rank1: \n",
            " [[0.22 0.27 0.24 0.23 0.3  0.17 0.3 ]\n",
            " [0.12 0.15 0.14 0.13 0.17 0.09 0.17]\n",
            " [0.64 0.78 0.72 0.68 0.88 0.5  0.88]\n",
            " [0.75 0.92 0.84 0.8  1.03 0.58 1.03]\n",
            " [0.62 0.76 0.7  0.66 0.85 0.48 0.85]\n",
            " [0.13 0.16 0.15 0.14 0.18 0.1  0.18]\n",
            " [0.77 0.95 0.87 0.82 1.06 0.6  1.06]]\n"
          ]
        },
        {
          "output_type": "display_data",
          "data": {
            "text/plain": [
              "<Figure size 640x480 with 1 Axes>"
            ],
            "image/png": "[encoded data removed]"
          },
          "metadata": {}
        }
      ]
    },
    {
      "cell_type": "markdown",
      "source": [
        "The best rank 2 image is the sum of above best rank 1 image and outer product of u2 with v2 and scaled by s2."
      ],
      "metadata": {
        "id": "hMNg1ARhXLXg"
      }
    },
    {
      "cell_type": "code",
      "source": [
        "IMG_rank2 = S[0] * np.outer(U[:, 0], V_T[0, :]) + \\\n",
        "            S[1] * np.outer(U[:, 1], V_T[1, :])\n",
        "\n",
        "with np.printoptions(precision=2):\n",
        "  print(\"IMG_rank2: \\n\", IMG_rank2)\n",
        "\n",
        "plot_img(IMG_rank2)"
      ],
      "metadata": {
        "colab": {
          "base_uri": "https://localhost:8080/",
          "height": 552
        },
        "id": "CqkbePZ6XMKx",
        "outputId": "c4cb44f0-6cb6-40c9-ec24-556b6fdf8179"
      },
      "execution_count": null,
      "outputs": [
        {
          "output_type": "stream",
          "name": "stdout",
          "text": [
            "IMG_rank2: \n",
            " [[ 0.02  0.99 -0.23 -0.13  0.18  0.85  0.18]\n",
            " [ 0.19 -0.1   0.3   0.25  0.2  -0.13  0.2 ]\n",
            " [ 0.82  0.13  1.14  1.    0.98 -0.11  0.98]\n",
            " [ 0.7   1.1   0.72  0.71  1.    0.75  1.  ]\n",
            " [ 0.48  1.27  0.37  0.41  0.77  0.96  0.77]\n",
            " [ 0.03  0.54 -0.1  -0.04  0.12  0.45  0.12]\n",
            " [ 0.85  0.67  1.05  0.96  1.1   0.35  1.1 ]]\n"
          ]
        },
        {
          "output_type": "display_data",
          "data": {
            "text/plain": [
              "<Figure size 640x480 with 1 Axes>"
            ],
            "image/png": "[encoded data removed]"
          },
          "metadata": {}
        }
      ]
    },
    {
      "cell_type": "markdown",
      "source": [
        "Similarly, the best rank i image is the sum of best rank (i-1) image and outer product of ui with vi scaled by si.\n",
        "\n",
        "We will construct best rank i image by summing all rank 1 images corresponding to singular values from 1 to i."
      ],
      "metadata": {
        "id": "vjfbbiUAXmYX"
      }
    },
    {
      "cell_type": "code",
      "source": [
        "fig = pyplot.figure(1, (16,8))\n",
        "\n",
        "for i in range(1, len(S)+1):\n",
        "  best_rank_i_approx = np.zeros_like(IMG, dtype=\"float64\")\n",
        "  for j in range(i):\n",
        "    best_rank_i_approx += rank_1_images[j]\n",
        "\n",
        "  ax = pyplot.subplot(1,n,i)\n",
        "  ax.imshow(best_rank_i_approx, cmap=\"gray\")\n",
        "  ax.set_xticks([])\n",
        "  ax.set_yticks([])\n",
        "  ax.set_title(f\"best_rank_{i}_approx\")\n",
        "  pyplot.tight_layout()"
      ],
      "metadata": {
        "colab": {
          "base_uri": "https://localhost:8080/",
          "height": 270
        },
        "id": "eosm8XaLXnHk",
        "outputId": "8236f761-22f8-4370-b596-b09e10d167e5"
      },
      "execution_count": null,
      "outputs": [
        {
          "output_type": "display_data",
          "data": {
            "text/plain": [
              "<Figure size 1600x800 with 7 Axes>"
            ],
            "image/png": "[encoded data removed]"
          },
          "metadata": {}
        }
      ]
    },
    {
      "cell_type": "markdown",
      "source": [
        "We can clearly see that as we add more rank 1 images, the approximated image gets closer to the original."
      ],
      "metadata": {
        "id": "oA6K4ehqbG6X"
      }
    },
    {
      "cell_type": "markdown",
      "source": [
        "However, it wouldn't make sense to go to rank r as that is just the same original image. So instead, we stop earlier at a rank that balances quality and storage. Note also that in all cases, we would at least stop at best rank 6 approximation, because rank 7 is the same as rank 6 since the original image is rank 6 and the last singular value is 0, adding nothing to the image."
      ],
      "metadata": {
        "id": "BulU5GcbbUK5"
      }
    },
    {
      "cell_type": "markdown",
      "source": [
        "Assuming we were satisfied with the best rank 3 approximation, let's see how much space we saved."
      ],
      "metadata": {
        "id": "mlveFjK3cIrc"
      }
    },
    {
      "cell_type": "code",
      "source": [
        "# these spaces are in units\n",
        "\n",
        "original_space = 7*7\n",
        "print(\"original space: \", original_space)\n",
        "\n",
        "best_rank_3_space = 3*(7+7) + 3 #S is 3\n",
        "print(\"best_rank_3_space: \", best_rank_3_space)\n",
        "\n",
        "space_saved = 1 - best_rank_3_space / original_space\n",
        "print(f\"space saved: {space_saved * 100} %\")"
      ],
      "metadata": {
        "colab": {
          "base_uri": "https://localhost:8080/"
        },
        "id": "rz0E4crFbmZM",
        "outputId": "404844ea-29aa-48eb-fef5-631bf579ea5e"
      },
      "execution_count": null,
      "outputs": [
        {
          "output_type": "stream",
          "name": "stdout",
          "text": [
            "original space:  49\n",
            "best_rank_3_space:  45\n",
            "space saved: 8.163265306122447 %\n"
          ]
        }
      ]
    },
    {
      "cell_type": "markdown",
      "source": [
        "Although this may seem negligible, it's quite remarkble for a tiny 7x7 image. In the case of real life bigger images, we save a lot of space while retaining near identical image quality.  "
      ],
      "metadata": {
        "id": "pZlXWlexc010"
      }
    },
    {
      "cell_type": "code",
      "source": [
        "pyplot.figure(1)\n",
        "pyplot.semilogy(np.diag(S))\n",
        "pyplot.title(\"Singular values\")\n",
        "pyplot.show()\n"
      ],
      "metadata": {
        "colab": {
          "base_uri": "https://localhost:8080/",
          "height": 452
        },
        "id": "Df-BywLPmAUX",
        "outputId": "9b387d22-1d81-494f-910e-62321d6d5052"
      },
      "execution_count": null,
      "outputs": [
        {
          "output_type": "display_data",
          "data": {
            "text/plain": [
              "<Figure size 640x480 with 1 Axes>"
            ],
            "image/png": "[encoded data removed]"
          },
          "metadata": {}
        }
      ]
    },
    {
      "cell_type": "markdown",
      "source": [
        "Plotting the singular values can also be helpful in detemining the fraction of the \"energy\" captured by the first r modes. However, this is only really useful when compressing larger images. In my next example of a larger image, we will see how this can be applied."
      ],
      "metadata": {
        "id": "4eetD-24nAb9"
      }
    }
  ]
}